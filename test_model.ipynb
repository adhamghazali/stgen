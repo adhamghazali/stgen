{
 "cells": [
  {
   "cell_type": "code",
   "execution_count": null,
   "id": "3f479647",
   "metadata": {},
   "outputs": [],
   "source": [
    "import stgen\n",
    "import torch as th\n",
    "model_name='t5-small'\n",
    "t5_tokenizer=stgen.tokenizer(model_name)\n",
    "text=['I love rock and roll']\n",
    "x,y=t5_tokenizer.get_tokens_masks(text)\n",
    "device= th.device('cuda')\n",
    "batch_size=len(text)"
   ]
  },
  {
   "cell_type": "code",
   "execution_count": null,
   "id": "43557471",
   "metadata": {},
   "outputs": [],
   "source": [
    "model=stgen.stgen(model_name,512,batch_size)\n",
    "hidden=model.initHidden().to(device)\n",
    "model=model.to(device)\n",
    "output,hidden = model(x,y, hidden)"
   ]
  }
 ],
 "metadata": {
  "kernelspec": {
   "display_name": "Python 3 (ipykernel)",
   "language": "python",
   "name": "python3"
  },
  "language_info": {
   "codemirror_mode": {
    "name": "ipython",
    "version": 3
   },
   "file_extension": ".py",
   "mimetype": "text/x-python",
   "name": "python",
   "nbconvert_exporter": "python",
   "pygments_lexer": "ipython3",
   "version": "3.7.7"
  }
 },
 "nbformat": 4,
 "nbformat_minor": 5
}
