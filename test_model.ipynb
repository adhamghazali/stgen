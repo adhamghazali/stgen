{
 "cells": [
  {
   "cell_type": "code",
   "execution_count": null,
   "id": "3f479647",
   "metadata": {},
   "outputs": [],
   "source": [
    "import stgen\n",
    "import torch as th\n",
    "model_name='t5-small'\n",
    "t5_tokenizer=stgen.tokenizer(model_name)\n",
    "text=['I love rock and roll']\n",
    "x,y=t5_tokenizer.get_tokens_masks(text)\n",
    "device= th.device('cuda')\n",
    "batch_size=len(text)"
   ]
  },
  {
   "cell_type": "code",
   "execution_count": null,
   "id": "43557471",
   "metadata": {},
   "outputs": [],
   "source": [
    "model=stgen.stgen(model_name,512,batch_size)\n",
    "hidden=model.initHidden().to(device)\n",
    "model=model.to(device)\n",
    "output,hidden = model(x,y, hidden)"
   ]
  },
  {
   "cell_type": "markdown",
   "id": "b85b0a17",
   "metadata": {},
   "source": [
    "## Data"
   ]
  },
  {
   "cell_type": "code",
   "execution_count": null,
   "id": "8663e062",
   "metadata": {},
   "outputs": [],
   "source": [
    "import pandas as pd"
   ]
  },
  {
   "cell_type": "code",
   "execution_count": null,
   "id": "26e2f46c",
   "metadata": {},
   "outputs": [],
   "source": [
    "df=pd.read_csv('./data/startups.csv')"
   ]
  },
  {
   "cell_type": "code",
   "execution_count": null,
   "id": "0dab105d",
   "metadata": {},
   "outputs": [],
   "source": [
    "df.tail(20)"
   ]
  },
  {
   "cell_type": "markdown",
   "id": "a803a861",
   "metadata": {},
   "source": [
    "## Utils"
   ]
  },
  {
   "cell_type": "code",
   "execution_count": 1,
   "id": "65a115cb",
   "metadata": {},
   "outputs": [],
   "source": [
    "from stgen import utils"
   ]
  },
  {
   "cell_type": "code",
   "execution_count": null,
   "id": "aef5e52c",
   "metadata": {},
   "outputs": [],
   "source": []
  },
  {
   "cell_type": "code",
   "execution_count": 2,
   "id": "0ecd0781",
   "metadata": {},
   "outputs": [
    {
     "data": {
      "text/plain": [
       "'google is an okay company, microsoft too'"
      ]
     },
     "execution_count": 2,
     "metadata": {},
     "output_type": "execute_result"
    }
   ],
   "source": [
    "tens=utils.lineToTensor('google is an okay company, microsoft too')\n",
    "utils.tensor_to_line(tens)"
   ]
  },
  {
   "cell_type": "code",
   "execution_count": null,
   "id": "6654b162",
   "metadata": {},
   "outputs": [],
   "source": []
  }
 ],
 "metadata": {
  "kernelspec": {
   "display_name": "Python 3 (ipykernel)",
   "language": "python",
   "name": "python3"
  },
  "language_info": {
   "codemirror_mode": {
    "name": "ipython",
    "version": 3
   },
   "file_extension": ".py",
   "mimetype": "text/x-python",
   "name": "python",
   "nbconvert_exporter": "python",
   "pygments_lexer": "ipython3",
   "version": "3.7.7"
  }
 },
 "nbformat": 4,
 "nbformat_minor": 5
}
